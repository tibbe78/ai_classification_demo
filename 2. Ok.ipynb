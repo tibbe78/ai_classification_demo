{
 "cells": [
  {
   "cell_type": "markdown",
   "id": "4570b3c8-1f9a-4b5f-9eca-4f27d672ffb2",
   "metadata": {},
   "source": [
    "## Customer Support Ticket Classification Test 2 (Ok)\n",
    "### Pros\n",
    "* Some Structured data via pydantic models\n",
    "* Confident Score\n",
    "### Cons\n",
    "* We don't give the AI context, Why are there ticket? Who are these tickets for etc. \n",
    "* LLM Model have a harder time to answer in a good way without context."
   ]
  },
  {
   "cell_type": "code",
   "execution_count": 1,
   "id": "264e9e4b-af86-4311-9b7c-41b8c6e438dd",
   "metadata": {},
   "outputs": [],
   "source": [
    "from pydantic_model import *\n",
    "from tickets import *\n",
    "from ollama_connect import *\n",
    "from IPython.display import display\n",
    "import pandas as pd\n",
    "\n",
    "MODELNAME = \"llama3.1:8b\"\n",
    "rows = []"
   ]
  },
  {
   "cell_type": "code",
   "execution_count": 2,
   "id": "7b74999c-01c2-47d7-984f-46ea22dc2c8c",
   "metadata": {},
   "outputs": [],
   "source": [
    "def classify_ticket(ticket_text: str) -> TicketClassification:\n",
    "    response = client_instructor.chat.completions.create(\n",
    "        model=MODELNAME,\n",
    "        response_model=TicketClassification,\n",
    "        temperature=0,\n",
    "        max_tokens=16384,\n",
    "        seed=633242,\n",
    "        top_p=0.2,\n",
    "        max_retries=3,\n",
    "        messages=[\n",
    "            {\n",
    "                \"role\": \"system\",\n",
    "                \"content\": \"Analyze the following customer support ticket and extract the requested information.\"\n",
    "            },\n",
    "            {\"role\": \"user\", \"content\": ticket_text}\n",
    "        ]\n",
    "    )\n",
    "    return response"
   ]
  },
  {
   "cell_type": "code",
   "execution_count": null,
   "id": "dae9530e-3ee2-4440-8b9c-7c8500b23cd2",
   "metadata": {},
   "outputs": [],
   "source": [
    "for ticket in tickets:\n",
    "    result = classify_ticket(ticket)\n",
    "    data = result.model_dump()\n",
    "    # Ensure all possibly None fields are set to a default value for DataFrame compatibility\n",
    "    if data.get(\"suggested_action\") is None:\n",
    "        data[\"suggested_action\"] = \"\"\n",
    "    if data.get(\"key_information\") is None:\n",
    "        data[\"key_information\"] = []\n",
    "    if data.get(\"confidence\") is None:\n",
    "        data[\"confidence\"] = 0.0\n",
    "    if data.get(\"contain_PII_info\") is None:\n",
    "        data[\"contain_PII_info\"] = 0.0\n",
    "    if data.get(\"pii_type\") is None:\n",
    "        data[\"pii_type\"] = \"NONE\"\n",
    "    data['raw_ticket'] = ticket.strip()\n",
    "    rows.append(data)\n",
    "df = pd.DataFrame(rows)\n"
   ]
  },
  {
   "cell_type": "code",
   "execution_count": null,
   "id": "b7a29b64-8bb2-4adf-89f6-fe44763271d8",
   "metadata": {},
   "outputs": [],
   "source": []
  }
 ],
 "metadata": {
  "kernelspec": {
   "display_name": "Python 3 (ipykernel)",
   "language": "python",
   "name": "python3"
  },
  "language_info": {
   "codemirror_mode": {
    "name": "ipython",
    "version": 3
   },
   "file_extension": ".py",
   "mimetype": "text/x-python",
   "name": "python",
   "nbconvert_exporter": "python",
   "pygments_lexer": "ipython3",
   "version": "3.12.11"
  }
 },
 "nbformat": 4,
 "nbformat_minor": 5
}
