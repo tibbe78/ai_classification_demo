{
 "cells": [
  {
   "cell_type": "markdown",
   "id": "4570b3c8-1f9a-4b5f-9eca-4f27d672ffb2",
   "metadata": {},
   "source": [
    "## Customer Support Ticket Classification Test 2 (Ok)\n",
    "### Pros\n",
    "* Some Structured data via pydantic models\n",
    "* Confident Score\n",
    "### Cons\n",
    "* We don't give the AI context, Why are there ticket? Who are these tickets for etc. \n",
    "* LLM Model have a harder time to answer in a good way without context."
   ]
  },
  {
   "cell_type": "code",
   "execution_count": null,
   "id": "264e9e4b-af86-4311-9b7c-41b8c6e438dd",
   "metadata": {},
   "outputs": [],
   "source": [
    "from pydantic_model import *\n",
    "from tickets import *\n",
    "from ollama_connect import *\n",
    "from IPython.display import display\n",
    "import pandas as pd\n",
    "from openai import OpenAI\n",
    "import instructor\n",
    "\n",
    "client_simple = OpenAI(\n",
    "    base_url='http://ollama:11434/v1/',\n",
    "    api_key='ollama'\n",
    ")\n",
    "\n",
    "client_instructor = instructor.patch(\n",
    "    client_simple,\n",
    "    mode=instructor.Mode.JSON\n",
    ")\n",
    "\n",
    "MODELNAME = \"llama3.1:8b\"\n"
   ]
  },
  {
   "cell_type": "code",
   "execution_count": null,
   "id": "7b74999c-01c2-47d7-984f-46ea22dc2c8c",
   "metadata": {},
   "outputs": [],
   "source": [
    "def classify_ticket(ticket_text: str) -> TicketClassification:\n",
    "    response = client_instructor.chat.completions.create(\n",
    "        model=MODELNAME,\n",
    "        response_model=TicketClassification,\n",
    "        temperature=0,\n",
    "        max_tokens=1024,\n",
    "        seed=633242,\n",
    "        top_p=0.2,\n",
    "        max_retries=3,\n",
    "        messages=[\n",
    "            {\n",
    "                \"role\": \"system\",\n",
    "                \"content\": \"\"\"Analyze the following customer support ticket and extract the requested information.\n",
    "                            For the 'confidence' field, return a float between 0.0 and 1.0 representing your overall confidence in the accuracy of the category, urgency, and sentiment fields you provide. Never return None.\"\"\"\n",
    "            },\n",
    "            {\"role\": \"user\", \"content\": ticket_text}\n",
    "        ]\n",
    "    )\n",
    "    return response"
   ]
  },
  {
   "cell_type": "code",
   "execution_count": null,
   "id": "dae9530e-3ee2-4440-8b9c-7c8500b23cd2",
   "metadata": {},
   "outputs": [],
   "source": [
    "rows = []\n",
    "for i, ticket in enumerate(tickets, 1):\n",
    "    result = classify_ticket(ticket)\n",
    "\n",
    "    # Prepare data for DataFrame with cleaned enum values\n",
    "    data = {\n",
    "        'category': result.category.value,\n",
    "        'urgency': result.urgency.value,\n",
    "        'sentiment': result.sentiment.value,\n",
    "        'confidence': round(result.confidence, 1) if result.confidence is not None else 0.0,\n",
    "        'contain_PII_info': round(result.contain_PII_info, 1) if result.contain_PII_info is not None else 0.0,\n",
    "        'pii_type': result.pii_type.value,\n",
    "        'key_information': result.key_information,\n",
    "        'suggested_action': result.suggested_action,\n",
    "        'raw_ticket': ticket.strip()\n",
    "    }\n",
    "    \n",
    "    rows.append(data)\n",
    "\n",
    "df = pd.DataFrame(rows)\n",
    "display(df.style.set_properties(**{'text-align': 'left'}))"
   ]
  }
 ],
 "metadata": {
  "kernelspec": {
   "display_name": "Python 3 (ipykernel)",
   "language": "python",
   "name": "python3"
  },
  "language_info": {
   "codemirror_mode": {
    "name": "ipython",
    "version": 3
   },
   "file_extension": ".py",
   "mimetype": "text/x-python",
   "name": "python",
   "nbconvert_exporter": "python",
   "pygments_lexer": "ipython3",
   "version": "3.12.11"
  }
 },
 "nbformat": 4,
 "nbformat_minor": 5
}
