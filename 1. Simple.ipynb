{
 "cells": [
  {
   "cell_type": "markdown",
   "id": "b29c2eb9-34f0-4383-8078-cc22c149642b",
   "metadata": {},
   "source": [
    "## Customer Support Ticket Classification Test 1 (Simple)\n",
    "### Drawbacks of this approach:\n",
    "1. No structured output, making it difficult to integrate into automated systems\n",
    "2. No validation of the output, potentially leading to inconsistent categorizations\n",
    "3. Limited information extracted, missing important details for prioritization\n",
    "4. No confidence score, making it hard to flag uncertain classifications for human review"
   ]
  },
  {
   "cell_type": "code",
   "execution_count": 1,
   "id": "6e360e08-c34f-4cb5-87f7-43ec2ba3c332",
   "metadata": {},
   "outputs": [],
   "source": [
    "from tickets import *\n",
    "from ollama_connect import *\n",
    "from IPython.display import display\n",
    "import pandas as pd\n",
    "pd.set_option('display.max_colwidth', None)  # or a large number instead of None\n",
    "MODELNAME = \"llama3.1:8b\"\n",
    "data = []"
   ]
  },
  {
   "cell_type": "code",
   "execution_count": 2,
   "id": "3689e705-4511-45ce-ad31-b62ed99e09a3",
   "metadata": {},
   "outputs": [],
   "source": [
    "def classify_ticket_simple(ticket_text: str) -> str:\n",
    "    response = client_simple.chat.completions.create(\n",
    "        model=MODELNAME,\n",
    "        messages=[\n",
    "            {\"role\": \"system\", \"content\": \"Classify the following customer support ticket into a category.\"},\n",
    "            {\"role\": \"user\", \"content\": ticket_text}\n",
    "        ]\n",
    "    )\n",
    "    return response.choices[0].message.content"
   ]
  },
  {
   "cell_type": "code",
   "execution_count": 3,
   "id": "1ec038e3-491f-4233-bf5c-ea108dc91742",
   "metadata": {
    "scrolled": true
   },
   "outputs": [
    {
     "data": {
      "text/html": [
       "<style type=\"text/css\">\n",
       "#T_2ab06_row0_col0, #T_2ab06_row1_col0, #T_2ab06_row2_col0, #T_2ab06_row3_col0 {\n",
       "  text-align: left;\n",
       "}\n",
       "</style>\n",
       "<table id=\"T_2ab06\">\n",
       "  <thead>\n",
       "    <tr>\n",
       "      <th class=\"blank level0\" >&nbsp;</th>\n",
       "      <th id=\"T_2ab06_level0_col0\" class=\"col_heading level0 col0\" >Classification</th>\n",
       "    </tr>\n",
       "  </thead>\n",
       "  <tbody>\n",
       "    <tr>\n",
       "      <th id=\"T_2ab06_level0_row0\" class=\"row_heading level0 row0\" >0</th>\n",
       "      <td id=\"T_2ab06_row0_col0\" class=\"data row0 col0\" >I would classify this customer support ticket into the category of:\n",
       "\n",
       "**Incorrect/Shipped Damaged/Inaccurate Order**\n",
       "\n",
       "However, it could also be classified as **Order Discrepancy** or simply **Shipping Error**, as the primary issue is that the wrong product was shipped to the customer.</td>\n",
       "    </tr>\n",
       "    <tr>\n",
       "      <th id=\"T_2ab06_level0_row1\" class=\"row_heading level0 row1\" >1</th>\n",
       "      <td id=\"T_2ab06_row1_col0\" class=\"data row1 col0\" >I would classify this customer support ticket into the category of:\n",
       "\n",
       "**Account Access/Technical Issue**\n",
       "\n",
       "This classification is based on the primary concern expressed by the customer, which is being unable to log in to their account. The customer has also mentioned that they've tried resetting their password but didn't receive a reset email, suggesting a technical issue that requires assistance from support staff.</td>\n",
       "    </tr>\n",
       "    <tr>\n",
       "      <th id=\"T_2ab06_level0_row2\" class=\"row_heading level0 row2\" >2</th>\n",
       "      <td id=\"T_2ab06_row2_col0\" class=\"data row2 col0\" >I would classify this customer support ticket as:\n",
       "\n",
       "**Critical/ Urgent (Escalation) - Angry/Cease Request**\n",
       "\n",
       "The ticket exhibits a high level of frustration, anger, and importance due to the fact that the CEO of a major bank is reporting a critical issue that has brought down their entire system. The tone is aggressive, with a veiled threat to cancel service if not resolved promptly. This requires immediate attention from a senior support team or escalation channel to rectify the situation ASAP.</td>\n",
       "    </tr>\n",
       "    <tr>\n",
       "      <th id=\"T_2ab06_level0_row3\" class=\"row_heading level0 row3\" >3</th>\n",
       "      <td id=\"T_2ab06_row3_col0\" class=\"data row3 col0\" >This can be classified as a **Positive Feedback** or **General Appreciation** category.\n",
       "\n",
       "The customer, Adam, is expressing his satisfaction with the service he received and complimenting the salesperson, Anders. He's simply thanking the team for doing a good job, rather than reporting any issues or asking for help.</td>\n",
       "    </tr>\n",
       "  </tbody>\n",
       "</table>\n"
      ],
      "text/plain": [
       "<pandas.io.formats.style.Styler at 0x7fc6c82f4530>"
      ]
     },
     "metadata": {},
     "output_type": "display_data"
    }
   ],
   "source": [
    "for ticket in tickets:\n",
    "    result = classify_ticket_simple(ticket)\n",
    "    data.append({\"Classification\": result})\n",
    "    \n",
    "df = pd.DataFrame(data)\n",
    "display(df.style.set_properties(**{'text-align': 'left'}))"
   ]
  },
  {
   "cell_type": "code",
   "execution_count": null,
   "id": "9615d977-75d5-4b8d-a924-62c26763a417",
   "metadata": {},
   "outputs": [],
   "source": []
  }
 ],
 "metadata": {
  "kernelspec": {
   "display_name": "Python 3 (ipykernel)",
   "language": "python",
   "name": "python3"
  },
  "language_info": {
   "codemirror_mode": {
    "name": "ipython",
    "version": 3
   },
   "file_extension": ".py",
   "mimetype": "text/x-python",
   "name": "python",
   "nbconvert_exporter": "python",
   "pygments_lexer": "ipython3",
   "version": "3.12.11"
  }
 },
 "nbformat": 4,
 "nbformat_minor": 5
}
