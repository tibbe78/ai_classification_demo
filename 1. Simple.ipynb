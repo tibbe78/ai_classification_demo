{
 "cells": [
  {
   "cell_type": "markdown",
   "id": "b29c2eb9-34f0-4383-8078-cc22c149642b",
   "metadata": {},
   "source": [
    "## Customer Support Ticket Classification Test 1 (Simple)\n",
    "### Drawbacks of this approach:\n",
    "1. No structured output, making it difficult to integrate into automated systems\n",
    "2. No validation of the output, potentially leading to inconsistent categorizations\n",
    "3. Limited information extracted, missing important details for prioritization\n",
    "4. No confidence score, making it hard to flag uncertain classifications for human review"
   ]
  },
  {
   "cell_type": "code",
   "execution_count": 1,
   "id": "6e360e08-c34f-4cb5-87f7-43ec2ba3c332",
   "metadata": {},
   "outputs": [],
   "source": [
    "from tickets import *\n",
    "from ollama_connect import *\n",
    "from IPython.display import display\n",
    "import pandas as pd\n",
    "pd.set_option('display.max_colwidth', None)  # or a large number instead of None\n",
    "MODELNAME = \"llama3.1:8b\"\n",
    "data = []"
   ]
  },
  {
   "cell_type": "code",
   "execution_count": 2,
   "id": "3689e705-4511-45ce-ad31-b62ed99e09a3",
   "metadata": {},
   "outputs": [],
   "source": [
    "def classify_ticket_simple(ticket_text: str) -> str:\n",
    "    response = client_simple.chat.completions.create(\n",
    "        model=MODELNAME,\n",
    "        messages=[\n",
    "            {\"role\": \"system\", \"content\": \"Classify the following customer support ticket into a category.\"},\n",
    "            {\"role\": \"user\", \"content\": ticket_text}\n",
    "        ]\n",
    "    )\n",
    "    return response.choices[0].message.content"
   ]
  },
  {
   "cell_type": "code",
   "execution_count": null,
   "id": "1ec038e3-491f-4233-bf5c-ea108dc91742",
   "metadata": {
    "scrolled": true
   },
   "outputs": [],
   "source": [
    "for ticket in tickets:\n",
    "    result = classify_ticket_simple(ticket)\n",
    "    data.append({\"Classification\": result})\n",
    "    \n",
    "df = pd.DataFrame(data)\n",
    "display(df.style.set_properties(**{'text-align': 'left'}))"
   ]
  },
  {
   "cell_type": "code",
   "execution_count": null,
   "id": "9615d977-75d5-4b8d-a924-62c26763a417",
   "metadata": {},
   "outputs": [],
   "source": []
  }
 ],
 "metadata": {
  "kernelspec": {
   "display_name": "Python 3 (ipykernel)",
   "language": "python",
   "name": "python3"
  },
  "language_info": {
   "codemirror_mode": {
    "name": "ipython",
    "version": 3
   },
   "file_extension": ".py",
   "mimetype": "text/x-python",
   "name": "python",
   "nbconvert_exporter": "python",
   "pygments_lexer": "ipython3",
   "version": "3.12.11"
  }
 },
 "nbformat": 4,
 "nbformat_minor": 5
}
